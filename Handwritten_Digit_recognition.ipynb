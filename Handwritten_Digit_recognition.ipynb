{
  "cells": [
    {
      "cell_type": "code",
      "execution_count": 12,
      "metadata": {
        "execution": {
          "iopub.execute_input": "2023-03-18T04:49:18.005790Z",
          "iopub.status.busy": "2023-03-18T04:49:18.004905Z",
          "iopub.status.idle": "2023-03-18T04:49:21.865138Z",
          "shell.execute_reply": "2023-03-18T04:49:21.863202Z",
          "shell.execute_reply.started": "2023-03-18T04:49:18.005742Z"
        },
        "id": "nabQrCErMVZH",
        "trusted": true
      },
      "outputs": [],
      "source": [
        "import pandas as pd\n",
        "import seaborn as sns\n",
        "import numpy as np\n",
        "import matplotlib.pyplot as plt\n",
        "import tensorflow as tf\n",
        "from keras.utils.np_utils import to_categorical\n",
        "from keras.layers import Dense, Dropout, Activation, Flatten\n",
        "from keras.optimizers import Adam,RMSprop\n",
        "from keras.utils import np_utils,plot_model\n",
        "from IPython.display import Image\n",
        "from keras.layers import Conv2D, MaxPooling2D\n",
        "from keras.callbacks import ReduceLROnPlateau,ModelCheckpoint,EarlyStopping\n",
        "from sklearn.metrics import confusion_matrix,accuracy_score\n",
        "from tensorflow.keras.layers import Input, Conv2D, MaxPooling2D, Dense, Flatten, Dropout, Activation, BatchNormalization\n",
        "from tensorflow.keras.models import Model, Sequential\n",
        "from tensorflow.keras.preprocessing.image import ImageDataGenerator\n",
        "from tensorflow.keras.regularizers import l2\n",
        "from tensorflow.keras.callbacks import ReduceLROnPlateau\n",
        "from sklearn.model_selection import train_test_split\n",
        "\n",
        "\n"
      ]
    },
    {
      "cell_type": "code",
      "execution_count": 13,
      "metadata": {
        "execution": {
          "iopub.execute_input": "2023-03-18T04:49:21.868265Z",
          "iopub.status.busy": "2023-03-18T04:49:21.867388Z",
          "iopub.status.idle": "2023-03-18T04:49:26.245979Z",
          "shell.execute_reply": "2023-03-18T04:49:26.244657Z",
          "shell.execute_reply.started": "2023-03-18T04:49:21.868206Z"
        },
        "id": "R_tomrPtMVZI",
        "trusted": true
      },
      "outputs": [],
      "source": [
        "train_data=pd.read_csv('/content/train.csv')\n",
        "test_data=pd.read_csv('/content/test.csv')"
      ]
    },
    {
      "cell_type": "code",
      "execution_count": 14,
      "metadata": {
        "colab": {
          "base_uri": "https://localhost:8080/",
          "height": 280
        },
        "execution": {
          "iopub.execute_input": "2023-03-18T04:49:26.250067Z",
          "iopub.status.busy": "2023-03-18T04:49:26.249654Z",
          "iopub.status.idle": "2023-03-18T04:49:26.274721Z",
          "shell.execute_reply": "2023-03-18T04:49:26.273407Z",
          "shell.execute_reply.started": "2023-03-18T04:49:26.250030Z"
        },
        "id": "pxmcJHYxMVZI",
        "outputId": "cf16b359-b7c3-46f9-fa13-f340d5b95c60",
        "trusted": true
      },
      "outputs": [
        {
          "data": {
            "text/html": [
              "\n",
              "  <div id=\"df-1a2af46d-d842-4e31-93e3-9387530fad1c\">\n",
              "    <div class=\"colab-df-container\">\n",
              "      <div>\n",
              "<style scoped>\n",
              "    .dataframe tbody tr th:only-of-type {\n",
              "        vertical-align: middle;\n",
              "    }\n",
              "\n",
              "    .dataframe tbody tr th {\n",
              "        vertical-align: top;\n",
              "    }\n",
              "\n",
              "    .dataframe thead th {\n",
              "        text-align: right;\n",
              "    }\n",
              "</style>\n",
              "<table border=\"1\" class=\"dataframe\">\n",
              "  <thead>\n",
              "    <tr style=\"text-align: right;\">\n",
              "      <th></th>\n",
              "      <th>label</th>\n",
              "      <th>pixel0</th>\n",
              "      <th>pixel1</th>\n",
              "      <th>pixel2</th>\n",
              "      <th>pixel3</th>\n",
              "      <th>pixel4</th>\n",
              "      <th>pixel5</th>\n",
              "      <th>pixel6</th>\n",
              "      <th>pixel7</th>\n",
              "      <th>pixel8</th>\n",
              "      <th>...</th>\n",
              "      <th>pixel774</th>\n",
              "      <th>pixel775</th>\n",
              "      <th>pixel776</th>\n",
              "      <th>pixel777</th>\n",
              "      <th>pixel778</th>\n",
              "      <th>pixel779</th>\n",
              "      <th>pixel780</th>\n",
              "      <th>pixel781</th>\n",
              "      <th>pixel782</th>\n",
              "      <th>pixel783</th>\n",
              "    </tr>\n",
              "  </thead>\n",
              "  <tbody>\n",
              "    <tr>\n",
              "      <th>0</th>\n",
              "      <td>1</td>\n",
              "      <td>0</td>\n",
              "      <td>0</td>\n",
              "      <td>0</td>\n",
              "      <td>0</td>\n",
              "      <td>0</td>\n",
              "      <td>0</td>\n",
              "      <td>0</td>\n",
              "      <td>0</td>\n",
              "      <td>0</td>\n",
              "      <td>...</td>\n",
              "      <td>0.0</td>\n",
              "      <td>0.0</td>\n",
              "      <td>0.0</td>\n",
              "      <td>0.0</td>\n",
              "      <td>0.0</td>\n",
              "      <td>0.0</td>\n",
              "      <td>0.0</td>\n",
              "      <td>0.0</td>\n",
              "      <td>0.0</td>\n",
              "      <td>0.0</td>\n",
              "    </tr>\n",
              "    <tr>\n",
              "      <th>1</th>\n",
              "      <td>0</td>\n",
              "      <td>0</td>\n",
              "      <td>0</td>\n",
              "      <td>0</td>\n",
              "      <td>0</td>\n",
              "      <td>0</td>\n",
              "      <td>0</td>\n",
              "      <td>0</td>\n",
              "      <td>0</td>\n",
              "      <td>0</td>\n",
              "      <td>...</td>\n",
              "      <td>0.0</td>\n",
              "      <td>0.0</td>\n",
              "      <td>0.0</td>\n",
              "      <td>0.0</td>\n",
              "      <td>0.0</td>\n",
              "      <td>0.0</td>\n",
              "      <td>0.0</td>\n",
              "      <td>0.0</td>\n",
              "      <td>0.0</td>\n",
              "      <td>0.0</td>\n",
              "    </tr>\n",
              "    <tr>\n",
              "      <th>2</th>\n",
              "      <td>1</td>\n",
              "      <td>0</td>\n",
              "      <td>0</td>\n",
              "      <td>0</td>\n",
              "      <td>0</td>\n",
              "      <td>0</td>\n",
              "      <td>0</td>\n",
              "      <td>0</td>\n",
              "      <td>0</td>\n",
              "      <td>0</td>\n",
              "      <td>...</td>\n",
              "      <td>0.0</td>\n",
              "      <td>0.0</td>\n",
              "      <td>0.0</td>\n",
              "      <td>0.0</td>\n",
              "      <td>0.0</td>\n",
              "      <td>0.0</td>\n",
              "      <td>0.0</td>\n",
              "      <td>0.0</td>\n",
              "      <td>0.0</td>\n",
              "      <td>0.0</td>\n",
              "    </tr>\n",
              "    <tr>\n",
              "      <th>3</th>\n",
              "      <td>4</td>\n",
              "      <td>0</td>\n",
              "      <td>0</td>\n",
              "      <td>0</td>\n",
              "      <td>0</td>\n",
              "      <td>0</td>\n",
              "      <td>0</td>\n",
              "      <td>0</td>\n",
              "      <td>0</td>\n",
              "      <td>0</td>\n",
              "      <td>...</td>\n",
              "      <td>0.0</td>\n",
              "      <td>0.0</td>\n",
              "      <td>0.0</td>\n",
              "      <td>0.0</td>\n",
              "      <td>0.0</td>\n",
              "      <td>0.0</td>\n",
              "      <td>0.0</td>\n",
              "      <td>0.0</td>\n",
              "      <td>0.0</td>\n",
              "      <td>0.0</td>\n",
              "    </tr>\n",
              "    <tr>\n",
              "      <th>4</th>\n",
              "      <td>0</td>\n",
              "      <td>0</td>\n",
              "      <td>0</td>\n",
              "      <td>0</td>\n",
              "      <td>0</td>\n",
              "      <td>0</td>\n",
              "      <td>0</td>\n",
              "      <td>0</td>\n",
              "      <td>0</td>\n",
              "      <td>0</td>\n",
              "      <td>...</td>\n",
              "      <td>0.0</td>\n",
              "      <td>0.0</td>\n",
              "      <td>0.0</td>\n",
              "      <td>0.0</td>\n",
              "      <td>0.0</td>\n",
              "      <td>0.0</td>\n",
              "      <td>0.0</td>\n",
              "      <td>0.0</td>\n",
              "      <td>0.0</td>\n",
              "      <td>0.0</td>\n",
              "    </tr>\n",
              "  </tbody>\n",
              "</table>\n",
              "<p>5 rows × 785 columns</p>\n",
              "</div>\n",
              "      <button class=\"colab-df-convert\" onclick=\"convertToInteractive('df-1a2af46d-d842-4e31-93e3-9387530fad1c')\"\n",
              "              title=\"Convert this dataframe to an interactive table.\"\n",
              "              style=\"display:none;\">\n",
              "        \n",
              "  <svg xmlns=\"http://www.w3.org/2000/svg\" height=\"24px\"viewBox=\"0 0 24 24\"\n",
              "       width=\"24px\">\n",
              "    <path d=\"M0 0h24v24H0V0z\" fill=\"none\"/>\n",
              "    <path d=\"M18.56 5.44l.94 2.06.94-2.06 2.06-.94-2.06-.94-.94-2.06-.94 2.06-2.06.94zm-11 1L8.5 8.5l.94-2.06 2.06-.94-2.06-.94L8.5 2.5l-.94 2.06-2.06.94zm10 10l.94 2.06.94-2.06 2.06-.94-2.06-.94-.94-2.06-.94 2.06-2.06.94z\"/><path d=\"M17.41 7.96l-1.37-1.37c-.4-.4-.92-.59-1.43-.59-.52 0-1.04.2-1.43.59L10.3 9.45l-7.72 7.72c-.78.78-.78 2.05 0 2.83L4 21.41c.39.39.9.59 1.41.59.51 0 1.02-.2 1.41-.59l7.78-7.78 2.81-2.81c.8-.78.8-2.07 0-2.86zM5.41 20L4 18.59l7.72-7.72 1.47 1.35L5.41 20z\"/>\n",
              "  </svg>\n",
              "      </button>\n",
              "      \n",
              "  <style>\n",
              "    .colab-df-container {\n",
              "      display:flex;\n",
              "      flex-wrap:wrap;\n",
              "      gap: 12px;\n",
              "    }\n",
              "\n",
              "    .colab-df-convert {\n",
              "      background-color: #E8F0FE;\n",
              "      border: none;\n",
              "      border-radius: 50%;\n",
              "      cursor: pointer;\n",
              "      display: none;\n",
              "      fill: #1967D2;\n",
              "      height: 32px;\n",
              "      padding: 0 0 0 0;\n",
              "      width: 32px;\n",
              "    }\n",
              "\n",
              "    .colab-df-convert:hover {\n",
              "      background-color: #E2EBFA;\n",
              "      box-shadow: 0px 1px 2px rgba(60, 64, 67, 0.3), 0px 1px 3px 1px rgba(60, 64, 67, 0.15);\n",
              "      fill: #174EA6;\n",
              "    }\n",
              "\n",
              "    [theme=dark] .colab-df-convert {\n",
              "      background-color: #3B4455;\n",
              "      fill: #D2E3FC;\n",
              "    }\n",
              "\n",
              "    [theme=dark] .colab-df-convert:hover {\n",
              "      background-color: #434B5C;\n",
              "      box-shadow: 0px 1px 3px 1px rgba(0, 0, 0, 0.15);\n",
              "      filter: drop-shadow(0px 1px 2px rgba(0, 0, 0, 0.3));\n",
              "      fill: #FFFFFF;\n",
              "    }\n",
              "  </style>\n",
              "\n",
              "      <script>\n",
              "        const buttonEl =\n",
              "          document.querySelector('#df-1a2af46d-d842-4e31-93e3-9387530fad1c button.colab-df-convert');\n",
              "        buttonEl.style.display =\n",
              "          google.colab.kernel.accessAllowed ? 'block' : 'none';\n",
              "\n",
              "        async function convertToInteractive(key) {\n",
              "          const element = document.querySelector('#df-1a2af46d-d842-4e31-93e3-9387530fad1c');\n",
              "          const dataTable =\n",
              "            await google.colab.kernel.invokeFunction('convertToInteractive',\n",
              "                                                     [key], {});\n",
              "          if (!dataTable) return;\n",
              "\n",
              "          const docLinkHtml = 'Like what you see? Visit the ' +\n",
              "            '<a target=\"_blank\" href=https://colab.research.google.com/notebooks/data_table.ipynb>data table notebook</a>'\n",
              "            + ' to learn more about interactive tables.';\n",
              "          element.innerHTML = '';\n",
              "          dataTable['output_type'] = 'display_data';\n",
              "          await google.colab.output.renderOutput(dataTable, element);\n",
              "          const docLink = document.createElement('div');\n",
              "          docLink.innerHTML = docLinkHtml;\n",
              "          element.appendChild(docLink);\n",
              "        }\n",
              "      </script>\n",
              "    </div>\n",
              "  </div>\n",
              "  "
            ],
            "text/plain": [
              "   label  pixel0  pixel1  pixel2  pixel3  pixel4  pixel5  pixel6  pixel7  \\\n",
              "0      1       0       0       0       0       0       0       0       0   \n",
              "1      0       0       0       0       0       0       0       0       0   \n",
              "2      1       0       0       0       0       0       0       0       0   \n",
              "3      4       0       0       0       0       0       0       0       0   \n",
              "4      0       0       0       0       0       0       0       0       0   \n",
              "\n",
              "   pixel8  ...  pixel774  pixel775  pixel776  pixel777  pixel778  pixel779  \\\n",
              "0       0  ...       0.0       0.0       0.0       0.0       0.0       0.0   \n",
              "1       0  ...       0.0       0.0       0.0       0.0       0.0       0.0   \n",
              "2       0  ...       0.0       0.0       0.0       0.0       0.0       0.0   \n",
              "3       0  ...       0.0       0.0       0.0       0.0       0.0       0.0   \n",
              "4       0  ...       0.0       0.0       0.0       0.0       0.0       0.0   \n",
              "\n",
              "   pixel780  pixel781  pixel782  pixel783  \n",
              "0       0.0       0.0       0.0       0.0  \n",
              "1       0.0       0.0       0.0       0.0  \n",
              "2       0.0       0.0       0.0       0.0  \n",
              "3       0.0       0.0       0.0       0.0  \n",
              "4       0.0       0.0       0.0       0.0  \n",
              "\n",
              "[5 rows x 785 columns]"
            ]
          },
          "execution_count": 14,
          "metadata": {},
          "output_type": "execute_result"
        }
      ],
      "source": [
        "train_data.head()\n"
      ]
    },
    {
      "cell_type": "code",
      "execution_count": null,
      "metadata": {
        "execution": {
          "iopub.execute_input": "2023-03-18T04:49:26.277503Z",
          "iopub.status.busy": "2023-03-18T04:49:26.276668Z",
          "iopub.status.idle": "2023-03-18T04:49:26.284722Z",
          "shell.execute_reply": "2023-03-18T04:49:26.283461Z",
          "shell.execute_reply.started": "2023-03-18T04:49:26.277459Z"
        },
        "id": "wqF_Wz-dMVZJ",
        "outputId": "1d573d43-fafb-470d-adc9-501fda11cc78",
        "trusted": true
      },
      "outputs": [
        {
          "data": {
            "text/plain": [
              "(42000, 785)"
            ]
          },
          "execution_count": 5,
          "metadata": {},
          "output_type": "execute_result"
        }
      ],
      "source": [
        "train_data.shape"
      ]
    },
    {
      "cell_type": "code",
      "execution_count": null,
      "metadata": {
        "execution": {
          "iopub.execute_input": "2023-03-18T04:49:26.287468Z",
          "iopub.status.busy": "2023-03-18T04:49:26.286925Z",
          "iopub.status.idle": "2023-03-18T04:49:26.317263Z",
          "shell.execute_reply": "2023-03-18T04:49:26.315714Z",
          "shell.execute_reply.started": "2023-03-18T04:49:26.287408Z"
        },
        "id": "M3JVsvvbMVZJ",
        "outputId": "aec27c64-1113-46ca-eb63-e6548d21b35d",
        "trusted": true
      },
      "outputs": [
        {
          "data": {
            "text/html": [
              "<div>\n",
              "<style scoped>\n",
              "    .dataframe tbody tr th:only-of-type {\n",
              "        vertical-align: middle;\n",
              "    }\n",
              "\n",
              "    .dataframe tbody tr th {\n",
              "        vertical-align: top;\n",
              "    }\n",
              "\n",
              "    .dataframe thead th {\n",
              "        text-align: right;\n",
              "    }\n",
              "</style>\n",
              "<table border=\"1\" class=\"dataframe\">\n",
              "  <thead>\n",
              "    <tr style=\"text-align: right;\">\n",
              "      <th></th>\n",
              "      <th>pixel0</th>\n",
              "      <th>pixel1</th>\n",
              "      <th>pixel2</th>\n",
              "      <th>pixel3</th>\n",
              "      <th>pixel4</th>\n",
              "      <th>pixel5</th>\n",
              "      <th>pixel6</th>\n",
              "      <th>pixel7</th>\n",
              "      <th>pixel8</th>\n",
              "      <th>pixel9</th>\n",
              "      <th>...</th>\n",
              "      <th>pixel774</th>\n",
              "      <th>pixel775</th>\n",
              "      <th>pixel776</th>\n",
              "      <th>pixel777</th>\n",
              "      <th>pixel778</th>\n",
              "      <th>pixel779</th>\n",
              "      <th>pixel780</th>\n",
              "      <th>pixel781</th>\n",
              "      <th>pixel782</th>\n",
              "      <th>pixel783</th>\n",
              "    </tr>\n",
              "  </thead>\n",
              "  <tbody>\n",
              "    <tr>\n",
              "      <th>0</th>\n",
              "      <td>0</td>\n",
              "      <td>0</td>\n",
              "      <td>0</td>\n",
              "      <td>0</td>\n",
              "      <td>0</td>\n",
              "      <td>0</td>\n",
              "      <td>0</td>\n",
              "      <td>0</td>\n",
              "      <td>0</td>\n",
              "      <td>0</td>\n",
              "      <td>...</td>\n",
              "      <td>0</td>\n",
              "      <td>0</td>\n",
              "      <td>0</td>\n",
              "      <td>0</td>\n",
              "      <td>0</td>\n",
              "      <td>0</td>\n",
              "      <td>0</td>\n",
              "      <td>0</td>\n",
              "      <td>0</td>\n",
              "      <td>0</td>\n",
              "    </tr>\n",
              "    <tr>\n",
              "      <th>1</th>\n",
              "      <td>0</td>\n",
              "      <td>0</td>\n",
              "      <td>0</td>\n",
              "      <td>0</td>\n",
              "      <td>0</td>\n",
              "      <td>0</td>\n",
              "      <td>0</td>\n",
              "      <td>0</td>\n",
              "      <td>0</td>\n",
              "      <td>0</td>\n",
              "      <td>...</td>\n",
              "      <td>0</td>\n",
              "      <td>0</td>\n",
              "      <td>0</td>\n",
              "      <td>0</td>\n",
              "      <td>0</td>\n",
              "      <td>0</td>\n",
              "      <td>0</td>\n",
              "      <td>0</td>\n",
              "      <td>0</td>\n",
              "      <td>0</td>\n",
              "    </tr>\n",
              "    <tr>\n",
              "      <th>2</th>\n",
              "      <td>0</td>\n",
              "      <td>0</td>\n",
              "      <td>0</td>\n",
              "      <td>0</td>\n",
              "      <td>0</td>\n",
              "      <td>0</td>\n",
              "      <td>0</td>\n",
              "      <td>0</td>\n",
              "      <td>0</td>\n",
              "      <td>0</td>\n",
              "      <td>...</td>\n",
              "      <td>0</td>\n",
              "      <td>0</td>\n",
              "      <td>0</td>\n",
              "      <td>0</td>\n",
              "      <td>0</td>\n",
              "      <td>0</td>\n",
              "      <td>0</td>\n",
              "      <td>0</td>\n",
              "      <td>0</td>\n",
              "      <td>0</td>\n",
              "    </tr>\n",
              "    <tr>\n",
              "      <th>3</th>\n",
              "      <td>0</td>\n",
              "      <td>0</td>\n",
              "      <td>0</td>\n",
              "      <td>0</td>\n",
              "      <td>0</td>\n",
              "      <td>0</td>\n",
              "      <td>0</td>\n",
              "      <td>0</td>\n",
              "      <td>0</td>\n",
              "      <td>0</td>\n",
              "      <td>...</td>\n",
              "      <td>0</td>\n",
              "      <td>0</td>\n",
              "      <td>0</td>\n",
              "      <td>0</td>\n",
              "      <td>0</td>\n",
              "      <td>0</td>\n",
              "      <td>0</td>\n",
              "      <td>0</td>\n",
              "      <td>0</td>\n",
              "      <td>0</td>\n",
              "    </tr>\n",
              "    <tr>\n",
              "      <th>4</th>\n",
              "      <td>0</td>\n",
              "      <td>0</td>\n",
              "      <td>0</td>\n",
              "      <td>0</td>\n",
              "      <td>0</td>\n",
              "      <td>0</td>\n",
              "      <td>0</td>\n",
              "      <td>0</td>\n",
              "      <td>0</td>\n",
              "      <td>0</td>\n",
              "      <td>...</td>\n",
              "      <td>0</td>\n",
              "      <td>0</td>\n",
              "      <td>0</td>\n",
              "      <td>0</td>\n",
              "      <td>0</td>\n",
              "      <td>0</td>\n",
              "      <td>0</td>\n",
              "      <td>0</td>\n",
              "      <td>0</td>\n",
              "      <td>0</td>\n",
              "    </tr>\n",
              "  </tbody>\n",
              "</table>\n",
              "<p>5 rows × 784 columns</p>\n",
              "</div>"
            ],
            "text/plain": [
              "   pixel0  pixel1  pixel2  pixel3  pixel4  pixel5  pixel6  pixel7  pixel8  \\\n",
              "0       0       0       0       0       0       0       0       0       0   \n",
              "1       0       0       0       0       0       0       0       0       0   \n",
              "2       0       0       0       0       0       0       0       0       0   \n",
              "3       0       0       0       0       0       0       0       0       0   \n",
              "4       0       0       0       0       0       0       0       0       0   \n",
              "\n",
              "   pixel9  ...  pixel774  pixel775  pixel776  pixel777  pixel778  pixel779  \\\n",
              "0       0  ...         0         0         0         0         0         0   \n",
              "1       0  ...         0         0         0         0         0         0   \n",
              "2       0  ...         0         0         0         0         0         0   \n",
              "3       0  ...         0         0         0         0         0         0   \n",
              "4       0  ...         0         0         0         0         0         0   \n",
              "\n",
              "   pixel780  pixel781  pixel782  pixel783  \n",
              "0         0         0         0         0  \n",
              "1         0         0         0         0  \n",
              "2         0         0         0         0  \n",
              "3         0         0         0         0  \n",
              "4         0         0         0         0  \n",
              "\n",
              "[5 rows x 784 columns]"
            ]
          },
          "execution_count": 6,
          "metadata": {},
          "output_type": "execute_result"
        }
      ],
      "source": [
        "test_data.head()"
      ]
    },
    {
      "cell_type": "code",
      "execution_count": null,
      "metadata": {
        "execution": {
          "iopub.execute_input": "2023-03-18T04:49:26.320668Z",
          "iopub.status.busy": "2023-03-18T04:49:26.319501Z",
          "iopub.status.idle": "2023-03-18T04:49:26.331147Z",
          "shell.execute_reply": "2023-03-18T04:49:26.329849Z",
          "shell.execute_reply.started": "2023-03-18T04:49:26.320139Z"
        },
        "id": "6lXHLrHiMVZJ",
        "outputId": "7b3bbe6c-3862-4774-d9fb-f46f56182bbd",
        "trusted": true
      },
      "outputs": [
        {
          "data": {
            "text/plain": [
              "(28000, 784)"
            ]
          },
          "execution_count": 7,
          "metadata": {},
          "output_type": "execute_result"
        }
      ],
      "source": [
        "test_data.shape"
      ]
    },
    {
      "cell_type": "code",
      "execution_count": null,
      "metadata": {
        "execution": {
          "iopub.execute_input": "2023-03-18T04:49:26.333504Z",
          "iopub.status.busy": "2023-03-18T04:49:26.332822Z",
          "iopub.status.idle": "2023-03-18T04:49:26.345819Z",
          "shell.execute_reply": "2023-03-18T04:49:26.344550Z",
          "shell.execute_reply.started": "2023-03-18T04:49:26.333462Z"
        },
        "id": "hBLXbdJSMVZJ",
        "outputId": "8748a81f-f59c-47fa-e010-602d59021b9b",
        "trusted": true
      },
      "outputs": [
        {
          "data": {
            "text/plain": [
              "Index(['label', 'pixel0', 'pixel1', 'pixel2', 'pixel3', 'pixel4', 'pixel5',\n",
              "       'pixel6', 'pixel7', 'pixel8',\n",
              "       ...\n",
              "       'pixel774', 'pixel775', 'pixel776', 'pixel777', 'pixel778', 'pixel779',\n",
              "       'pixel780', 'pixel781', 'pixel782', 'pixel783'],\n",
              "      dtype='object', length=785)"
            ]
          },
          "execution_count": 8,
          "metadata": {},
          "output_type": "execute_result"
        }
      ],
      "source": [
        "train_data.columns"
      ]
    },
    {
      "cell_type": "markdown",
      "metadata": {
        "id": "YMDBkxugMVZJ"
      },
      "source": [
        "**Data Preprocessing**"
      ]
    },
    {
      "cell_type": "code",
      "execution_count": null,
      "metadata": {
        "execution": {
          "iopub.execute_input": "2023-03-18T04:49:26.348797Z",
          "iopub.status.busy": "2023-03-18T04:49:26.348436Z",
          "iopub.status.idle": "2023-03-18T04:49:26.547323Z",
          "shell.execute_reply": "2023-03-18T04:49:26.545876Z",
          "shell.execute_reply.started": "2023-03-18T04:49:26.348760Z"
        },
        "id": "69UvzdoNMVZK",
        "outputId": "2dfcfa55-1476-4a88-93cd-518bf786c7a2",
        "trusted": true
      },
      "outputs": [
        {
          "data": {
            "text/plain": [
              "((42000, 784), (42000,), (28000, 784))"
            ]
          },
          "execution_count": 9,
          "metadata": {},
          "output_type": "execute_result"
        }
      ],
      "source": [
        "X = train_data.drop(['label'],axis = 1).astype('int32')\n",
        "y = train_data['label'].astype('float32')\n",
        "test = test_data.astype('float32')\n",
        "X.shape, y.shape, test.shape"
      ]
    },
    {
      "cell_type": "code",
      "execution_count": null,
      "metadata": {
        "execution": {
          "iopub.execute_input": "2023-03-18T04:49:26.549432Z",
          "iopub.status.busy": "2023-03-18T04:49:26.549025Z",
          "iopub.status.idle": "2023-03-18T04:49:26.653087Z",
          "shell.execute_reply": "2023-03-18T04:49:26.651647Z",
          "shell.execute_reply.started": "2023-03-18T04:49:26.549395Z"
        },
        "id": "-JS8dTsoMVZL",
        "outputId": "dff8252c-8529-4ef8-934b-81273cdf578b",
        "trusted": true
      },
      "outputs": [
        {
          "data": {
            "text/plain": [
              "(42000, 28, 28, 1)"
            ]
          },
          "execution_count": 10,
          "metadata": {},
          "output_type": "execute_result"
        }
      ],
      "source": [
        "#reshape X, test\n",
        "X = X.values.reshape(X.shape[0], 28, 28, 1) / 255.0\n",
        "X.shape"
      ]
    },
    {
      "cell_type": "code",
      "execution_count": null,
      "metadata": {
        "execution": {
          "iopub.execute_input": "2023-03-18T04:49:26.655739Z",
          "iopub.status.busy": "2023-03-18T04:49:26.655239Z",
          "iopub.status.idle": "2023-03-18T04:49:26.694685Z",
          "shell.execute_reply": "2023-03-18T04:49:26.693357Z",
          "shell.execute_reply.started": "2023-03-18T04:49:26.655677Z"
        },
        "id": "9LZ_zIjGMVZL",
        "outputId": "fa6c32f3-26bf-4624-cb73-e70da971542e",
        "trusted": true
      },
      "outputs": [
        {
          "data": {
            "text/plain": [
              "(28000, 28, 28, 1)"
            ]
          },
          "execution_count": 11,
          "metadata": {},
          "output_type": "execute_result"
        }
      ],
      "source": [
        "test = test.values.reshape(test.shape[0], 28, 28, 1) / 255.0\n",
        "test.shape"
      ]
    },
    {
      "cell_type": "code",
      "execution_count": null,
      "metadata": {
        "execution": {
          "iopub.execute_input": "2023-03-18T04:49:26.698963Z",
          "iopub.status.busy": "2023-03-18T04:49:26.698331Z",
          "iopub.status.idle": "2023-03-18T04:49:26.709444Z",
          "shell.execute_reply": "2023-03-18T04:49:26.708212Z",
          "shell.execute_reply.started": "2023-03-18T04:49:26.698914Z"
        },
        "id": "6ZcTXEN0MVZL",
        "outputId": "3438cb12-7d97-4b93-86bc-330fbb6395ea",
        "trusted": true
      },
      "outputs": [
        {
          "data": {
            "text/plain": [
              "array([0., 1., 2., 3., 4., 5., 6., 7., 8., 9.], dtype=float32)"
            ]
          },
          "execution_count": 12,
          "metadata": {},
          "output_type": "execute_result"
        }
      ],
      "source": [
        "#print unique values of y\n",
        "np.unique(y)"
      ]
    },
    {
      "cell_type": "code",
      "execution_count": null,
      "metadata": {
        "execution": {
          "iopub.execute_input": "2023-03-18T04:49:26.717371Z",
          "iopub.status.busy": "2023-03-18T04:49:26.716900Z",
          "iopub.status.idle": "2023-03-18T04:49:27.151762Z",
          "shell.execute_reply": "2023-03-18T04:49:27.150492Z",
          "shell.execute_reply.started": "2023-03-18T04:49:26.717325Z"
        },
        "id": "or-pxBhvMVZM",
        "trusted": true
      },
      "outputs": [],
      "source": [
        "#split data\n",
        "X_train, X_val, Y_train, Y_val = train_test_split(X, y, test_size = 0.2, random_state=2)\n",
        "\n",
        "X_test = test"
      ]
    },
    {
      "cell_type": "code",
      "execution_count": null,
      "metadata": {
        "execution": {
          "iopub.execute_input": "2023-03-18T04:49:27.154039Z",
          "iopub.status.busy": "2023-03-18T04:49:27.153379Z",
          "iopub.status.idle": "2023-03-18T04:49:27.294244Z",
          "shell.execute_reply": "2023-03-18T04:49:27.292710Z",
          "shell.execute_reply.started": "2023-03-18T04:49:27.153993Z"
        },
        "id": "Llwbh4n0MVZM",
        "trusted": true
      },
      "outputs": [],
      "source": [
        "X_train = np.array(X_train)\n",
        "X_val = np.array(X_val)\n",
        "X_test = np.array(X_test)"
      ]
    },
    {
      "cell_type": "code",
      "execution_count": null,
      "metadata": {
        "execution": {
          "iopub.execute_input": "2023-03-18T04:49:27.296400Z",
          "iopub.status.busy": "2023-03-18T04:49:27.295976Z",
          "iopub.status.idle": "2023-03-18T04:49:27.585703Z",
          "shell.execute_reply": "2023-03-18T04:49:27.584346Z",
          "shell.execute_reply.started": "2023-03-18T04:49:27.296358Z"
        },
        "id": "JC1xe-iTMVZM",
        "trusted": true
      },
      "outputs": [],
      "source": [
        "# Padding the images by 2 pixels since in the paper input images were 32x32\n",
        "X_train = np.pad(X_train, ((0,0),(2,2),(2,2),(0,0)), 'constant')\n",
        "X_val = np.pad(X_val, ((0,0),(2,2),(2,2),(0,0)), 'constant')\n",
        "X_test = np.pad(X_test, ((0,0),(2,2),(2,2),(0,0)), 'constant')\n"
      ]
    },
    {
      "cell_type": "code",
      "execution_count": null,
      "metadata": {
        "execution": {
          "iopub.execute_input": "2023-03-18T04:49:27.587926Z",
          "iopub.status.busy": "2023-03-18T04:49:27.587529Z",
          "iopub.status.idle": "2023-03-18T04:49:28.124307Z",
          "shell.execute_reply": "2023-03-18T04:49:28.123013Z",
          "shell.execute_reply.started": "2023-03-18T04:49:27.587887Z"
        },
        "id": "vsvNj_MoMVZM",
        "trusted": true
      },
      "outputs": [],
      "source": [
        "#standerization\n",
        "mean_px= X.mean().astype(np.float32)\n",
        "std_px= X.std().astype(np.float32)\n",
        "X_train = (X_train - mean_px)/(std_px)\n",
        "\n",
        "mean_px = X_val.mean().astype(np.float32)\n",
        "std_px = X_val.std().astype(np.float32)\n",
        "X_val = (X_val - mean_px)/(std_px)\n",
        "\n",
        "mean_px = X_test.mean().astype(np.float32)\n",
        "std_px = X_test.std().astype(np.float32)\n",
        "X_test = (X_test - mean_px)/(std_px)"
      ]
    },
    {
      "cell_type": "code",
      "execution_count": null,
      "metadata": {
        "execution": {
          "iopub.execute_input": "2023-03-18T04:49:28.126207Z",
          "iopub.status.busy": "2023-03-18T04:49:28.125813Z",
          "iopub.status.idle": "2023-03-18T04:49:28.379804Z",
          "shell.execute_reply": "2023-03-18T04:49:28.378386Z",
          "shell.execute_reply.started": "2023-03-18T04:49:28.126155Z"
        },
        "id": "Kx3SLT2FMVZM",
        "outputId": "d90ff3c7-cb02-4e26-e36e-2099f76bbe12",
        "trusted": true
      },
      "outputs": [
        {
          "data": {
            "text/plain": [
              "<matplotlib.image.AxesImage at 0x7f39161aa4d0>"
            ]
          },
          "execution_count": 17,
          "metadata": {},
          "output_type": "execute_result"
        },
        {
          "data": {
            "image/png": "[encoded data removed]",
            "text/plain": [
              "<Figure size 640x480 with 1 Axes>"
            ]
          },
          "metadata": {},
          "output_type": "display_data"
        }
      ],
      "source": [
        "plt.imshow(X[4][:,:,0])"
      ]
    },
    {
      "cell_type": "code",
      "execution_count": null,
      "metadata": {
        "execution": {
          "iopub.execute_input": "2023-03-18T04:49:28.381956Z",
          "iopub.status.busy": "2023-03-18T04:49:28.381566Z",
          "iopub.status.idle": "2023-03-18T04:49:28.389468Z",
          "shell.execute_reply": "2023-03-18T04:49:28.387720Z",
          "shell.execute_reply.started": "2023-03-18T04:49:28.381920Z"
        },
        "id": "thQLM6dVMVZN",
        "trusted": true
      },
      "outputs": [],
      "source": [
        "#one hor encoding for y \"label\"\n",
        "from keras.utils.np_utils import to_categorical\n",
        "Y_train = to_categorical(Y_train, num_classes = 10)\n",
        "Y_val = to_categorical(Y_val, num_classes = 10)"
      ]
    },
    {
      "cell_type": "code",
      "execution_count": null,
      "metadata": {
        "execution": {
          "iopub.execute_input": "2023-03-18T04:49:28.391625Z",
          "iopub.status.busy": "2023-03-18T04:49:28.391099Z",
          "iopub.status.idle": "2023-03-18T04:49:28.405181Z",
          "shell.execute_reply": "2023-03-18T04:49:28.403742Z",
          "shell.execute_reply.started": "2023-03-18T04:49:28.391573Z"
        },
        "id": "z9evFHn_MVZN",
        "outputId": "a3bdcda9-738f-4060-f299-b8035b86eb16",
        "trusted": true
      },
      "outputs": [
        {
          "data": {
            "text/plain": [
              "10"
            ]
          },
          "execution_count": 19,
          "metadata": {},
          "output_type": "execute_result"
        }
      ],
      "source": [
        "#check number of classes\n",
        "Y_train.shape[1]"
      ]
    },
    {
      "cell_type": "markdown",
      "metadata": {
        "id": "Oyg3qogkMVZN"
      },
      "source": [
        "About LeNet_5\n",
        "\n",
        "LeNet-5 is a convolutional neural network architecture designed by Yann LeCun et al. in 1998. It was one of the earliest and most influential deep learning models for image recognition and was widely used for handwritten digit recognition tasks.\n",
        "\n",
        "LeNet-5v2 is an improved version of the original LeNet-5 architecture that was released in 2011. This updated version includes a number of modifications to the original architecture, such as increasing the number of filters in some layers, adding non-linearities after the convolutional layers, and introducing dropout regularization to prevent overfittin"
      ]
    },
    {
      "cell_type": "code",
      "execution_count": null,
      "metadata": {
        "execution": {
          "iopub.execute_input": "2023-03-18T04:50:10.671495Z",
          "iopub.status.busy": "2023-03-18T04:50:10.671036Z",
          "iopub.status.idle": "2023-03-18T04:50:10.684150Z",
          "shell.execute_reply": "2023-03-18T04:50:10.682044Z",
          "shell.execute_reply.started": "2023-03-18T04:50:10.671458Z"
        },
        "id": "UU4fqj2tMVZN",
        "trusted": true
      },
      "outputs": [],
      "source": [
        "\n",
        "\n",
        "def LeNet5v2(input_shape=(32, 32, 1), classes=10):\n",
        "    model = Sequential([\n",
        "        Conv2D(filters=32, kernel_size=5, strides=1, activation=\"relu\", input_shape=(32, 32, 1), kernel_regularizer=l2(0.0005)),\n",
        "        Conv2D(filters=32, kernel_size=5, strides=1, use_bias=False),\n",
        "        BatchNormalization(),\n",
        "        Activation(\"relu\"),\n",
        "        MaxPooling2D(pool_size=2, strides=2),\n",
        "        Dropout(0.25),\n",
        "        Conv2D(filters=64, kernel_size=3, strides=1, activation=\"relu\",input_shape=(32, 32, 1), kernel_regularizer=l2(0.0005)),\n",
        "        Conv2D(filters=64, kernel_size=3, strides=1,input_shape=(32, 32, 1), use_bias=False),\n",
        "        BatchNormalization(),\n",
        "        Activation(\"relu\"),\n",
        "        MaxPooling2D(pool_size=2, strides=2),\n",
        "        Dropout(0.25),\n",
        "        Flatten(),\n",
        "        Dense(units=256, use_bias=False),\n",
        "        BatchNormalization(),\n",
        "        Activation(\"relu\"),\n",
        "        Dense(units=128, use_bias=False),\n",
        "        BatchNormalization(),\n",
        "        Activation(\"relu\"),\n",
        "        Dense(units=84, use_bias=False),\n",
        "        BatchNormalization(),\n",
        "        Activation(\"relu\"),\n",
        "        Dropout(0.25),\n",
        "        Dense(units=10, activation=\"softmax\")\n",
        "    ])\n",
        "    model._name= 'LeNet5v2'\n",
        "    return model\n",
        "\n",
        "\n",
        "\n",
        " "
      ]
    },
    {
      "cell_type": "code",
      "execution_count": null,
      "metadata": {
        "execution": {
          "iopub.execute_input": "2023-03-18T04:50:12.468115Z",
          "iopub.status.busy": "2023-03-18T04:50:12.467155Z",
          "iopub.status.idle": "2023-03-18T04:50:12.690691Z",
          "shell.execute_reply": "2023-03-18T04:50:12.689438Z",
          "shell.execute_reply.started": "2023-03-18T04:50:12.468070Z"
        },
        "id": "flVBiEWPMVZO",
        "trusted": true
      },
      "outputs": [],
      "source": [
        "\n",
        "LeNet5Model = LeNet5v2(input_shape = (32, 32, 1), classes = 10)"
      ]
    },
    {
      "cell_type": "code",
      "execution_count": null,
      "metadata": {
        "execution": {
          "iopub.execute_input": "2023-03-18T04:50:16.666923Z",
          "iopub.status.busy": "2023-03-18T04:50:16.666472Z",
          "iopub.status.idle": "2023-03-18T04:50:16.691532Z",
          "shell.execute_reply": "2023-03-18T04:50:16.689758Z",
          "shell.execute_reply.started": "2023-03-18T04:50:16.666879Z"
        },
        "id": "9kVfVqZ9MVZO",
        "trusted": true
      },
      "outputs": [],
      "source": [
        "LeNet5Model.compile(optimizer='adam', loss='categorical_crossentropy', metrics=['accuracy'])"
      ]
    },
    {
      "cell_type": "code",
      "execution_count": null,
      "metadata": {
        "execution": {
          "iopub.execute_input": "2023-03-18T04:50:18.947831Z",
          "iopub.status.busy": "2023-03-18T04:50:18.946463Z",
          "iopub.status.idle": "2023-03-18T04:50:19.023807Z",
          "shell.execute_reply": "2023-03-18T04:50:19.022409Z",
          "shell.execute_reply.started": "2023-03-18T04:50:18.947774Z"
        },
        "id": "HY-fpz9cMVZO",
        "outputId": "88a940bc-5151-4428-d000-58db9030175c",
        "trusted": true
      },
      "outputs": [
        {
          "name": "stdout",
          "output_type": "stream",
          "text": [
            "Model: \"LeNet5v2\"\n",
            "_________________________________________________________________\n",
            " Layer (type)                Output Shape              Param #   \n",
            "=================================================================\n",
            " conv2d_4 (Conv2D)           (None, 28, 28, 32)        832       \n",
            "                                                                 \n",
            " conv2d_5 (Conv2D)           (None, 24, 24, 32)        25600     \n",
            "                                                                 \n",
            " batch_normalization_5 (Batc  (None, 24, 24, 32)       128       \n",
            " hNormalization)                                                 \n",
            "                                                                 \n",
            " activation_5 (Activation)   (None, 24, 24, 32)        0         \n",
            "                                                                 \n",
            " max_pooling2d_2 (MaxPooling  (None, 12, 12, 32)       0         \n",
            " 2D)                                                             \n",
            "                                                                 \n",
            " dropout_3 (Dropout)         (None, 12, 12, 32)        0         \n",
            "                                                                 \n",
            " conv2d_6 (Conv2D)           (None, 10, 10, 64)        18496     \n",
            "                                                                 \n",
            " conv2d_7 (Conv2D)           (None, 8, 8, 64)          36864     \n",
            "                                                                 \n",
            " batch_normalization_6 (Batc  (None, 8, 8, 64)         256       \n",
            " hNormalization)                                                 \n",
            "                                                                 \n",
            " activation_6 (Activation)   (None, 8, 8, 64)          0         \n",
            "                                                                 \n",
            " max_pooling2d_3 (MaxPooling  (None, 4, 4, 64)         0         \n",
            " 2D)                                                             \n",
            "                                                                 \n",
            " dropout_4 (Dropout)         (None, 4, 4, 64)          0         \n",
            "                                                                 \n",
            " flatten_1 (Flatten)         (None, 1024)              0         \n",
            "                                                                 \n",
            " dense_4 (Dense)             (None, 256)               262144    \n",
            "                                                                 \n",
            " batch_normalization_7 (Batc  (None, 256)              1024      \n",
            " hNormalization)                                                 \n",
            "                                                                 \n",
            " activation_7 (Activation)   (None, 256)               0         \n",
            "                                                                 \n",
            " dense_5 (Dense)             (None, 128)               32768     \n",
            "                                                                 \n",
            " batch_normalization_8 (Batc  (None, 128)              512       \n",
            " hNormalization)                                                 \n",
            "                                                                 \n",
            " activation_8 (Activation)   (None, 128)               0         \n",
            "                                                                 \n",
            " dense_6 (Dense)             (None, 84)                10752     \n",
            "                                                                 \n",
            " batch_normalization_9 (Batc  (None, 84)               336       \n",
            " hNormalization)                                                 \n",
            "                                                                 \n",
            " activation_9 (Activation)   (None, 84)                0         \n",
            "                                                                 \n",
            " dropout_5 (Dropout)         (None, 84)                0         \n",
            "                                                                 \n",
            " dense_7 (Dense)             (None, 10)                850       \n",
            "                                                                 \n",
            "=================================================================\n",
            "Total params: 390,562\n",
            "Trainable params: 389,434\n",
            "Non-trainable params: 1,128\n",
            "_________________________________________________________________\n"
          ]
        }
      ],
      "source": [
        "LeNet5Model.summary()"
      ]
    },
    {
      "cell_type": "markdown",
      "metadata": {
        "id": "oEzqo6g0MVZO"
      },
      "source": [
        "**DATA Generation**"
      ]
    },
    {
      "cell_type": "code",
      "execution_count": null,
      "metadata": {
        "execution": {
          "iopub.execute_input": "2023-03-18T04:50:23.917981Z",
          "iopub.status.busy": "2023-03-18T04:50:23.917542Z",
          "iopub.status.idle": "2023-03-18T04:50:24.040385Z",
          "shell.execute_reply": "2023-03-18T04:50:24.038965Z",
          "shell.execute_reply.started": "2023-03-18T04:50:23.917940Z"
        },
        "id": "Py5QXO2OMVZO",
        "trusted": true
      },
      "outputs": [],
      "source": [
        "data_gen = ImageDataGenerator(\n",
        "        featurewise_center = False,  \n",
        "        samplewise_center = False, \n",
        "        featurewise_std_normalization = False, \n",
        "        samplewise_std_normalization = False,  \n",
        "        zca_whitening = False,  \n",
        "        rotation_range = 10,  \n",
        "        zoom_range = 0.1,  \n",
        "        width_shift_range = 0.1,  \n",
        "        height_shift_range = 0.1,  \n",
        "        horizontal_flip = False,  \n",
        "        vertical_flip = False)  \n",
        "\n",
        "data_gen.fit(X_train)\n",
        "     "
      ]
    },
    {
      "cell_type": "markdown",
      "metadata": {
        "id": "7urX-N1tMVZP"
      },
      "source": [
        "loss_function"
      ]
    },
    {
      "cell_type": "code",
      "execution_count": null,
      "metadata": {
        "execution": {
          "iopub.execute_input": "2023-03-18T04:50:28.936637Z",
          "iopub.status.busy": "2023-03-18T04:50:28.936180Z",
          "iopub.status.idle": "2023-03-18T04:50:28.944006Z",
          "shell.execute_reply": "2023-03-18T04:50:28.942711Z",
          "shell.execute_reply.started": "2023-03-18T04:50:28.936598Z"
        },
        "id": "x9alR8V4MVZP",
        "trusted": true
      },
      "outputs": [],
      "source": [
        "learning_rate = ReduceLROnPlateau(monitor='val_loss', factor = 0.2, patience = 2)"
      ]
    },
    {
      "cell_type": "code",
      "execution_count": null,
      "metadata": {
        "execution": {
          "iopub.execute_input": "2023-03-18T05:16:54.722906Z",
          "iopub.status.busy": "2023-03-18T05:16:54.722481Z",
          "iopub.status.idle": "2023-03-18T05:16:54.728101Z",
          "shell.execute_reply": "2023-03-18T05:16:54.726580Z",
          "shell.execute_reply.started": "2023-03-18T05:16:54.722868Z"
        },
        "id": "BvQxCcF2MVZP",
        "trusted": true
      },
      "outputs": [],
      "source": [
        "#history_model\n",
        "history = LeNet5Model.fit(X_train, Y_train, epochs = 30, batch_size = 64, callbacks = [learning_rate], validation_data = (X_val,Y_val))"
      ]
    },
    {
      "cell_type": "code",
      "execution_count": null,
      "metadata": {
        "id": "y8AJy28tMVZP",
        "trusted": true
      },
      "outputs": [],
      "source": [
        "acc=history.history['accuracy']\n",
        "val_acc=history.history['val_accuracy']\n",
        "loss=history.history['loss']\n",
        "val_loss=history.history['val_loss']\n",
        "\n",
        "epochs=range(len(acc)) # Get number of epochs\n",
        "\n",
        "plt.plot(epochs, acc)\n",
        "plt.plot(epochs, val_acc)\n",
        "\n",
        "plt.plot(epochs, loss)\n",
        "plt.plot(epochs, val_loss)\n",
        "plt.figure()"
      ]
    },
    {
      "cell_type": "code",
      "execution_count": null,
      "metadata": {
        "execution": {
          "iopub.execute_input": "2023-03-18T04:50:56.421851Z",
          "iopub.status.busy": "2023-03-18T04:50:56.421391Z",
          "iopub.status.idle": "2023-03-18T04:51:15.317701Z",
          "shell.execute_reply": "2023-03-18T04:51:15.316301Z",
          "shell.execute_reply.started": "2023-03-18T04:50:56.421807Z"
        },
        "id": "9KXl-oI-MVZP",
        "outputId": "4495e432-a027-432a-e2ca-21f30e2e79b5",
        "trusted": true
      },
      "outputs": [
        {
          "name": "stdout",
          "output_type": "stream",
          "text": [
            "875/875 [==============================] - 18s 21ms/step\n"
          ]
        }
      ],
      "source": [
        "#submission\n",
        "results = LeNet5Model.predict(X_test)\n",
        "results = np.argmax(results,axis = 1)\n",
        "results = pd.Series(results,name=\"Label\")     \n",
        "submission = pd.concat([pd.Series(range(1,28001),name = \"ImageId\"),results],axis = 1)\n",
        "submission.to_csv(\"LeNetv2.csv\",index=False)"
      ]
    }
  ],
  "metadata": {
    "colab": {
      "provenance": []
    },
    "kernelspec": {
      "display_name": "Python 3",
      "language": "python",
      "name": "python3"
    },
    "language_info": {
      "codemirror_mode": {
        "name": "ipython",
        "version": 3
      },
      "file_extension": ".py",
      "mimetype": "text/x-python",
      "name": "python",
      "nbconvert_exporter": "python",
      "pygments_lexer": "ipython3",
      "version": "3.7.12"
    }
  },
  "nbformat": 4,
  "nbformat_minor": 0
}
